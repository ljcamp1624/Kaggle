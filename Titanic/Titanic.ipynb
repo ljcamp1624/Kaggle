{
 "cells": [
  {
   "cell_type": "code",
   "execution_count": 9,
   "id": "43f52746",
   "metadata": {},
   "outputs": [],
   "source": [
    "import numpy as np\n",
    "import pandas as pd\n",
    "import sklearn\n",
    "import matplotlib.pyplot as plt"
   ]
  },
  {
   "cell_type": "code",
   "execution_count": 10,
   "id": "2a07289b",
   "metadata": {},
   "outputs": [],
   "source": [
    "# import data\n",
    "train = pd.read_csv(r'C:\\Users\\Lenny\\Documents\\Github\\Kaggle\\Titanic\\train.csv')\n",
    "test = pd.read_csv(r'C:\\Users\\Lenny\\Documents\\Github\\Kaggle\\Titanic\\test.csv')\n",
    "sample = pd.read_csv(r'C:\\Users\\Lenny\\Documents\\Github\\Kaggle\\Titanic\\gender_submission.csv')"
   ]
  },
  {
   "cell_type": "code",
   "execution_count": 11,
   "id": "48d33fa6",
   "metadata": {
    "scrolled": false
   },
   "outputs": [],
   "source": [
    "# Parse variables with possible hidden meaning\n",
    "\n",
    "# Parse name\n",
    "def ParseNames(df):\n",
    "    df['Surname'] = df['Name'].apply(lambda x: x.split(', ')[0])\n",
    "    df['Title'] = df['Name'].apply(lambda x: x.split(', ')[1].split('. ')[0])\n",
    "    df['SpecialTitle'] = df['Title'].apply(lambda x: x not in ('Mr', 'Mrs', 'Miss', 'Master'))\n",
    "    df['Married'] = df['Title'].apply(lambda x: 'False' if x in ('Master', 'Miss') else 'True' if x == 'Mrs' else 'Unknown')\n",
    "\n",
    "# Use ticket info\n",
    "def ParseTicket(df):\n",
    "    data = df.groupby('Ticket')['Ticket'].count() > 1\n",
    "    shared_ticket = pd.DataFrame(\n",
    "        data = data.values,\n",
    "        index = data.index,\n",
    "        columns = ['SharedTicket'],\n",
    "    )\n",
    "    temp = df.merge(\n",
    "        shared_ticket,\n",
    "        left_on='Ticket',\n",
    "        right_index=True,\n",
    "    )\n",
    "    df['SharedTicket'] = temp['SharedTicket']\n",
    "    \n",
    "def ParseCabin(df):\n",
    "    df['CabinLetter'] = df['Cabin'].fillna('Unknown').apply(lambda x: x[0] if x != 'Unknown' else 'Unknown')\n",
    "    df['CabinNumberIsEven'] = df['Cabin'].fillna('Unknown').apply(lambda x: str(int(x[-1]) % 2 == 0) if x not in ['F', 'D', 'T', 'Unknown'] else 'Unknown')\n",
    "    \n",
    "ParseNames(train)\n",
    "ParseTicket(train)\n",
    "ParseCabin(train)\n",
    "ParseNames(test)\n",
    "ParseTicket(test)\n",
    "ParseCabin(test)"
   ]
  },
  {
   "cell_type": "code",
   "execution_count": 12,
   "id": "57f8ceb0",
   "metadata": {},
   "outputs": [],
   "source": [
    "# encode the variables that need to be encoded with one-hot encoding\n",
    "from sklearn.preprocessing import OneHotEncoder\n",
    "\n",
    "def TrainEncoder(data):\n",
    "    le = OneHotEncoder(sparse=False)\n",
    "    le.fit(data)\n",
    "    return le\n",
    "\n",
    "def ApplyEncoder(df, col, data, le):\n",
    "    t_data = pd.DataFrame(\n",
    "        data = le.transform(data),\n",
    "        columns = [col + '_' + str(c) for c in le.categories_[0]]\n",
    "    )\n",
    "    df = df.merge(t_data, left_index=True, right_index=True)\n",
    "    df.drop(columns = [c], inplace=True)\n",
    "    return df\n",
    "\n",
    "for c in ['Pclass', 'Sex', 'Embarked', 'Married', 'CabinLetter', 'CabinNumberIsEven']:\n",
    "    # train encoder\n",
    "    c_data = train[c].fillna('Unknown').values[:, None]\n",
    "    enc = TrainEncoder(c_data)\n",
    "    # apply the encoder inplace\n",
    "    train = ApplyEncoder(train, c, c_data, enc)\n",
    "    test = ApplyEncoder(test, c, test[c].fillna('Unknown').values[:, None], enc)"
   ]
  },
  {
   "cell_type": "code",
   "execution_count": 13,
   "id": "140fae71",
   "metadata": {},
   "outputs": [],
   "source": [
    "idx = train.isna().any() | test.isna().any()\n",
    "missing_cols = idx[idx].index\n",
    "\n",
    "full_data = pd.concat([train, test], axis=0).reset_index()\n",
    "ind_cols = [\n",
    "    'Age', 'Fare',\n",
    "    'SibSp', 'Parch',\n",
    "    'Pclass_1', 'Pclass_2', 'Pclass_3',\n",
    "    'Sex_female', 'Sex_male', 'Embarked_C', 'Embarked_Q', 'Embarked_S', 'Embarked_Unknown',\n",
    "    'Married_False', 'Married_True', 'Married_Unknown', 'SharedTicket', 'SpecialTitle',\n",
    "    'CabinLetter_A', 'CabinLetter_B',\n",
    "    'CabinLetter_C', 'CabinLetter_D', 'CabinLetter_E', 'CabinLetter_F',\n",
    "    'CabinLetter_G', 'CabinLetter_T', 'CabinLetter_Unknown',\n",
    "    'CabinNumberIsEven_False', 'CabinNumberIsEven_True', 'CabinNumberIsEven_Unknown']\n",
    "model_cols = ['Age', 'Fare']\n",
    "\n",
    "from sklearn.linear_model import LinearRegression\n",
    "for mc in model_cols:\n",
    "    # get idx and cols\n",
    "    train_idx = ~(full_data[mc].isna())\n",
    "    train_cols = [c for c in ind_cols if c != mc]\n",
    "    # set data\n",
    "    train_x = full_data.loc[train_idx, train_cols]\n",
    "    train_y = full_data.loc[train_idx, mc]\n",
    "    # grab valid idx\n",
    "    idx = ~train_x.isna().any(axis=1)\n",
    "    lm = LinearRegression()\n",
    "    lm.fit(train_x.loc[idx], train_y.loc[idx])\n",
    "    # apply on the rows its needed\n",
    "    for df in [train, test]:\n",
    "        x = df.loc[\n",
    "            df[mc].isna(),\n",
    "            train_cols\n",
    "        ]\n",
    "        if x.shape[0] > 0:\n",
    "            df.loc[x.index, mc+'_Approx'] = lm.predict(x)\n",
    "    \n",
    "for c in model_cols:\n",
    "    for i, r in train.iterrows():\n",
    "        if np.isnan(train.loc[i, c]):\n",
    "            train.loc[i, c] = train.loc[i, c + '_Approx']\n",
    "    for i, r in test.iterrows():\n",
    "        if np.isnan(test.loc[i, c]):\n",
    "            test.loc[i, c] = test.loc[i, c + '_Approx']\n"
   ]
  },
  {
   "cell_type": "code",
   "execution_count": 17,
   "id": "1e3bedc2",
   "metadata": {
    "scrolled": true
   },
   "outputs": [
    {
     "name": "stdout",
     "output_type": "stream",
     "text": [
      "0.8650664811379097 0.8708899982785332\n"
     ]
    },
    {
     "name": "stderr",
     "output_type": "stream",
     "text": [
      "C:\\Users\\Lenny\\AppData\\Local\\Temp\\ipykernel_15380\\933950917.py:18: RuntimeWarning: invalid value encountered in true_divide\n",
      "  df.loc[:, c] = (data - m1) / (m2 - m1)\n",
      "C:\\Users\\Lenny\\anaconda3\\lib\\site-packages\\sklearn\\utils\\validation.py:993: DataConversionWarning: A column-vector y was passed when a 1d array was expected. Please change the shape of y to (n_samples, ), for example using ravel().\n",
      "  y = column_or_1d(y, warn=True)\n"
     ]
    }
   ],
   "source": [
    "ind_cols = [\n",
    "    'Age', 'Fare',\n",
    "    'SibSp', 'Parch',\n",
    "    'Pclass_1', 'Pclass_2', 'Pclass_3',\n",
    "    'Sex_female', 'Sex_male', 'Embarked_C', 'Embarked_Q', 'Embarked_S', 'Embarked_Unknown',\n",
    "    'Married_False', 'Married_True', 'Married_Unknown', 'SharedTicket', 'SpecialTitle',\n",
    "    'CabinLetter_A', 'CabinLetter_B',\n",
    "    'CabinLetter_C', 'CabinLetter_D', 'CabinLetter_E', 'CabinLetter_F',\n",
    "    'CabinLetter_G', 'CabinLetter_T', 'CabinLetter_Unknown',\n",
    "    'CabinNumberIsEven_False', 'CabinNumberIsEven_True', 'CabinNumberIsEven_Unknown']\n",
    "dep_cols = ['Survived']\n",
    "\n",
    "def NormalizeCols(df):\n",
    "    for c in df.columns:\n",
    "        data = df.loc[:, c].values.astype(float)\n",
    "        m1 = np.min(data)\n",
    "        m2 = np.max(data)\n",
    "        df.loc[:, c] = (data - m1) / (m2 - m1)\n",
    "    return df\n",
    "train_x = NormalizeCols(train.loc[:, ind_cols])\n",
    "train_y = train.loc[:, dep_cols].values\n",
    "test_x = NormalizeCols(test.loc[:, ind_cols])\n",
    "\n",
    "from sklearn.model_selection import train_test_split\n",
    "x1, x2, y1, y2 = train_test_split(train_x, train_y, test_size=0.3, random_state=42)\n",
    "\n",
    "from sklearn.linear_model import LogisticRegression\n",
    "model = LogisticRegression(random_state=42, C=10**-1)\n",
    "model.fit(x1, y1==1)\n",
    "y1_hat = model.predict_proba(x1)[:, 1]\n",
    "y2_hat = model.predict_proba(x2)[:, 1]\n",
    "\n",
    "import sklearn.metrics as metrics\n",
    "print(\n",
    "    metrics.roc_auc_score(y1, y1_hat),\n",
    "    metrics.roc_auc_score(y2, y2_hat),\n",
    ")"
   ]
  },
  {
   "cell_type": "code",
   "execution_count": 18,
   "id": "3a45b52a",
   "metadata": {},
   "outputs": [],
   "source": [
    "# metrics.confusion_matrix(y2==1, y2_hat[:, None])\n",
    "tpr1, fpr1, th1 = metrics.roc_curve(y1==1, y1_hat[:, None])\n",
    "tpr2, fpr2, th2 = metrics.roc_curve(y2==1, y2_hat[:, None])"
   ]
  },
  {
   "cell_type": "code",
   "execution_count": 19,
   "id": "023b6c9b",
   "metadata": {},
   "outputs": [
    {
     "name": "stdout",
     "output_type": "stream",
     "text": [
      "train:  0.8650664811379097\n",
      "test:  0.8708899982785332\n"
     ]
    },
    {
     "data": {
      "image/png": "[encoded data removed]",
      "text/plain": [
       "<Figure size 640x480 with 1 Axes>"
      ]
     },
     "metadata": {},
     "output_type": "display_data"
    }
   ],
   "source": [
    "import matplotlib.pyplot as plt\n",
    "plt.plot(tpr1, fpr1)\n",
    "plt.plot(tpr2, fpr2)\n",
    "print('train: ', metrics.roc_auc_score(y1, y1_hat))\n",
    "print('test: ', metrics.roc_auc_score(y2, y2_hat))"
   ]
  },
  {
   "cell_type": "code",
   "execution_count": 20,
   "id": "99345883",
   "metadata": {},
   "outputs": [],
   "source": [
    "test['Survived'] = model.predict(test.loc[:, ind_cols]).astype(int)"
   ]
  },
  {
   "cell_type": "code",
   "execution_count": 21,
   "id": "8e82fd6a",
   "metadata": {},
   "outputs": [],
   "source": [
    "test.loc[:, ['PassengerId', 'Survived']].to_csv(r'C:\\Users\\Lenny\\Documents\\Kaggle\\Titanic\\submission.csv', index=False)"
   ]
  },
  {
   "cell_type": "code",
   "execution_count": 22,
   "id": "cf398fdb",
   "metadata": {},
   "outputs": [
    {
     "ename": "SyntaxError",
     "evalue": "invalid syntax (1126875838.py, line 1)",
     "output_type": "error",
     "traceback": [
      "\u001b[1;36m  File \u001b[1;32m\"C:\\Users\\Lenny\\AppData\\Local\\Temp\\ipykernel_15380\\1126875838.py\"\u001b[1;36m, line \u001b[1;32m1\u001b[0m\n\u001b[1;33m    Notes:\u001b[0m\n\u001b[1;37m          ^\u001b[0m\n\u001b[1;31mSyntaxError\u001b[0m\u001b[1;31m:\u001b[0m invalid syntax\n"
     ]
    }
   ],
   "source": [
    "Notes:\n",
    "- need to align datatypes at the beginning so you don't look like an idiot\n",
    "- sklearn has encoders, probably need one-hot encoder to keep things simpler otherwise you have to make sure you use categoricals, etc. and that's annoying\n",
    "- missing data needs to be considered and taken care of carefully\n",
    "- didn't do any rescaling - need to remember that\n"
   ]
  },
  {
   "cell_type": "code",
   "execution_count": 25,
   "id": "d2eb90ef",
   "metadata": {},
   "outputs": [
    {
     "data": {
      "text/html": [
       "<div>\n",
       "<style scoped>\n",
       "    .dataframe tbody tr th:only-of-type {\n",
       "        vertical-align: middle;\n",
       "    }\n",
       "\n",
       "    .dataframe tbody tr th {\n",
       "        vertical-align: top;\n",
       "    }\n",
       "\n",
       "    .dataframe thead th {\n",
       "        text-align: right;\n",
       "    }\n",
       "</style>\n",
       "<table border=\"1\" class=\"dataframe\">\n",
       "  <thead>\n",
       "    <tr style=\"text-align: right;\">\n",
       "      <th></th>\n",
       "      <th>PassengerId</th>\n",
       "      <th>Survived</th>\n",
       "    </tr>\n",
       "  </thead>\n",
       "  <tbody>\n",
       "    <tr>\n",
       "      <th>0</th>\n",
       "      <td>892</td>\n",
       "      <td>0</td>\n",
       "    </tr>\n",
       "    <tr>\n",
       "      <th>1</th>\n",
       "      <td>893</td>\n",
       "      <td>0</td>\n",
       "    </tr>\n",
       "    <tr>\n",
       "      <th>2</th>\n",
       "      <td>894</td>\n",
       "      <td>0</td>\n",
       "    </tr>\n",
       "    <tr>\n",
       "      <th>3</th>\n",
       "      <td>895</td>\n",
       "      <td>0</td>\n",
       "    </tr>\n",
       "    <tr>\n",
       "      <th>4</th>\n",
       "      <td>896</td>\n",
       "      <td>0</td>\n",
       "    </tr>\n",
       "    <tr>\n",
       "      <th>...</th>\n",
       "      <td>...</td>\n",
       "      <td>...</td>\n",
       "    </tr>\n",
       "    <tr>\n",
       "      <th>413</th>\n",
       "      <td>1305</td>\n",
       "      <td>0</td>\n",
       "    </tr>\n",
       "    <tr>\n",
       "      <th>414</th>\n",
       "      <td>1306</td>\n",
       "      <td>1</td>\n",
       "    </tr>\n",
       "    <tr>\n",
       "      <th>415</th>\n",
       "      <td>1307</td>\n",
       "      <td>0</td>\n",
       "    </tr>\n",
       "    <tr>\n",
       "      <th>416</th>\n",
       "      <td>1308</td>\n",
       "      <td>0</td>\n",
       "    </tr>\n",
       "    <tr>\n",
       "      <th>417</th>\n",
       "      <td>1309</td>\n",
       "      <td>0</td>\n",
       "    </tr>\n",
       "  </tbody>\n",
       "</table>\n",
       "<p>418 rows × 2 columns</p>\n",
       "</div>"
      ],
      "text/plain": [
       "     PassengerId  Survived\n",
       "0            892         0\n",
       "1            893         0\n",
       "2            894         0\n",
       "3            895         0\n",
       "4            896         0\n",
       "..           ...       ...\n",
       "413         1305         0\n",
       "414         1306         1\n",
       "415         1307         0\n",
       "416         1308         0\n",
       "417         1309         0\n",
       "\n",
       "[418 rows x 2 columns]"
      ]
     },
     "execution_count": 25,
     "metadata": {},
     "output_type": "execute_result"
    }
   ],
   "source": [
    "test.loc[:, ['PassengerId', 'Survived']]"
   ]
  },
  {
   "cell_type": "code",
   "execution_count": null,
   "id": "32ff2589",
   "metadata": {},
   "outputs": [],
   "source": []
  },
  {
   "cell_type": "code",
   "execution_count": null,
   "id": "d51adfa3",
   "metadata": {},
   "outputs": [],
   "source": []
  }
 ],
 "metadata": {
  "kernelspec": {
   "display_name": "Python 3 (ipykernel)",
   "language": "python",
   "name": "python3"
  },
  "language_info": {
   "codemirror_mode": {
    "name": "ipython",
    "version": 3
   },
   "file_extension": ".py",
   "mimetype": "text/x-python",
   "name": "python",
   "nbconvert_exporter": "python",
   "pygments_lexer": "ipython3",
   "version": "3.9.18"
  }
 },
 "nbformat": 4,
 "nbformat_minor": 5
}
