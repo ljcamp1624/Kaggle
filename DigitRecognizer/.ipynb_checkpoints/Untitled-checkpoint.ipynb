{
 "cells": [
  {
   "cell_type": "code",
   "execution_count": 71,
   "id": "b9291bd2",
   "metadata": {},
   "outputs": [],
   "source": [
    "import numpy as np\n",
    "import pandas as pd\n",
    "import matplotlib.pyplot as plt\n",
    "import sklearn\n",
    "import tensorflow as tf\n",
    "import keras\n",
    "tf.config.run_functions_eagerly(True)"
   ]
  },
  {
   "cell_type": "code",
   "execution_count": 83,
   "id": "bd8de03b",
   "metadata": {},
   "outputs": [],
   "source": [
    "# import data\n",
    "train = pd.read_csv(r'C:\\Users\\Lenny\\Documents\\Github\\Kaggle\\DigitRecognizer\\train.csv')\n",
    "test = pd.read_csv(r'C:\\Users\\Lenny\\Documents\\Github\\Kaggle\\DigitRecognizer\\test.csv')\n",
    "sample = pd.read_csv(r'C:\\Users\\Lenny\\Documents\\Github\\Kaggle\\DigitRecognizer\\sample_submission.csv')"
   ]
  },
  {
   "cell_type": "code",
   "execution_count": 85,
   "id": "2e482a94",
   "metadata": {},
   "outputs": [],
   "source": [
    "labels = []\n",
    "ims = []\n",
    "test_ims = []\n",
    "for i, r in train.iterrows():\n",
    "    labels.append(r['label'])\n",
    "    ims.append(r.values[1:].reshape([28,28]) / 255)\n",
    "for i, r in test.iterrows():\n",
    "    test_ims.append(r.values.reshape([28,28]) / 255)"
   ]
  },
  {
   "cell_type": "code",
   "execution_count": 159,
   "id": "a24d5a24",
   "metadata": {},
   "outputs": [],
   "source": [
    "cnn = keras.Sequential()\n",
    "cnn.add(keras.Input(shape=(28, 28, 1)))\n",
    "cnn.add(keras.layers.Conv2D(8, (3, 3)))\n",
    "cnn.add(keras.layers.SpatialDropout2D(0.1))\n",
    "cnn.add(keras.layers.Conv2D(15, (3, 3)))\n",
    "cnn.add(keras.layers.SpatialDropout2D(0.2))\n",
    "cnn.add(keras.layers.MaxPooling2D((2,2), 1))\n",
    "cnn.add(keras.layers.Conv2D(8, (3, 3)))\n",
    "cnn.add(keras.layers.Conv2D(5, (5, 5), strides=3))\n",
    "cnn.add(keras.layers.Flatten())\n",
    "cnn.add(keras.layers.Dense(100, activation='relu'))\n",
    "cnn.add(keras.layers.Dense(20, activation='relu'))\n",
    "cnn.add(keras.layers.Dense(10, activation='softmax'))\n",
    "cnn.build()\n",
    "cnn.compile(\n",
    "    optimizer=keras.optimizers.Adam(learning_rate=1e-3),\n",
    "    loss=keras.losses.BinaryCrossentropy(),\n",
    "    metrics=[\n",
    "        keras.metrics.BinaryAccuracy(),\n",
    "        keras.metrics.FalseNegatives(),\n",
    "    ],\n",
    "    run_eagerly=True,\n",
    ")"
   ]
  },
  {
   "cell_type": "code",
   "execution_count": 160,
   "id": "af0038db",
   "metadata": {},
   "outputs": [
    {
     "name": "stdout",
     "output_type": "stream",
     "text": [
      "Model: \"sequential_16\"\n",
      "_________________________________________________________________\n",
      " Layer (type)                Output Shape              Param #   \n",
      "=================================================================\n",
      " conv2d_23 (Conv2D)          (None, 26, 26, 8)         80        \n",
      "                                                                 \n",
      " spatial_dropout2d_8 (Spatia  (None, 26, 26, 8)        0         \n",
      " lDropout2D)                                                     \n",
      "                                                                 \n",
      " conv2d_24 (Conv2D)          (None, 24, 24, 15)        1095      \n",
      "                                                                 \n",
      " spatial_dropout2d_9 (Spatia  (None, 24, 24, 15)       0         \n",
      " lDropout2D)                                                     \n",
      "                                                                 \n",
      " max_pooling2d_4 (MaxPooling  (None, 23, 23, 15)       0         \n",
      " 2D)                                                             \n",
      "                                                                 \n",
      " conv2d_25 (Conv2D)          (None, 21, 21, 8)         1088      \n",
      "                                                                 \n",
      " conv2d_26 (Conv2D)          (None, 6, 6, 5)           1005      \n",
      "                                                                 \n",
      " flatten_9 (Flatten)         (None, 180)               0         \n",
      "                                                                 \n",
      " dense_17 (Dense)            (None, 100)               18100     \n",
      "                                                                 \n",
      " dense_18 (Dense)            (None, 20)                2020      \n",
      "                                                                 \n",
      " dense_19 (Dense)            (None, 10)                210       \n",
      "                                                                 \n",
      "=================================================================\n",
      "Total params: 23,598\n",
      "Trainable params: 23,598\n",
      "Non-trainable params: 0\n",
      "_________________________________________________________________\n"
     ]
    }
   ],
   "source": [
    "cnn.summary()"
   ]
  },
  {
   "cell_type": "code",
   "execution_count": 164,
   "id": "6d0a13df",
   "metadata": {},
   "outputs": [],
   "source": [
    "ims_array = np.expand_dims(np.array(ims), -1).astype(float)\n",
    "labels_array = keras.utils.to_categorical(np.array(labels).reshape(-1, 1), 10)\n",
    "test_ims_array = np.expand_dims(np.array(test_ims), -1).astype(float)"
   ]
  },
  {
   "cell_type": "code",
   "execution_count": null,
   "id": "b1ae2aa2",
   "metadata": {},
   "outputs": [
    {
     "name": "stdout",
     "output_type": "stream",
     "text": [
      "Epoch 1/20\n",
      " 160/1575 [==>...........................] - ETA: 57s - loss: 0.0177 - binary_accuracy: 0.9947 - false_negatives_7: 106.0000"
     ]
    }
   ],
   "source": [
    "cnn.fit(ims_array, labels_array, batch_size = 24, epochs=20, validation_split = 0.1)"
   ]
  },
  {
   "cell_type": "code",
   "execution_count": null,
   "id": "08166bb5",
   "metadata": {
    "scrolled": true
   },
   "outputs": [],
   "source": [
    "test_pred = cnn.predict(test_ims_array)\n",
    "output = pd.DataFrame(\n",
    "    data = pd.DataFrame(test_pred).apply(lambda x: x.index[x == max(x)].values[0], axis=1).reset_index().values,\n",
    "    columns = ['ImageId', 'Label']\n",
    ")\n",
    "output['ImageId'] += 1\n",
    "output.to_csv(r'C:\\Users\\Lenny\\Documents\\Github\\Kaggle\\DigitRecognizer\\submission.csv', index=False)"
   ]
  },
  {
   "cell_type": "code",
   "execution_count": null,
   "id": "3882027e",
   "metadata": {},
   "outputs": [],
   "source": [
    "pd.DataFrame(test_pred)"
   ]
  },
  {
   "cell_type": "code",
   "execution_count": null,
   "id": "3932d5a0",
   "metadata": {
    "scrolled": true
   },
   "outputs": [],
   "source": [
    "plt.imshow(test_ims[4774])"
   ]
  },
  {
   "cell_type": "code",
   "execution_count": null,
   "id": "5d6ac50d",
   "metadata": {},
   "outputs": [],
   "source": [
    "tt = pd.DataFrame(test_pred)\n",
    "tt['max_p'] = tt.max(axis=1)\n"
   ]
  },
  {
   "cell_type": "code",
   "execution_count": null,
   "id": "1ea93e66",
   "metadata": {},
   "outputs": [],
   "source": [
    "tt.sort_values('max_p', ascending=True)"
   ]
  },
  {
   "cell_type": "code",
   "execution_count": null,
   "id": "a12d45ee",
   "metadata": {},
   "outputs": [],
   "source": []
  },
  {
   "cell_type": "code",
   "execution_count": null,
   "id": "5556d472",
   "metadata": {},
   "outputs": [],
   "source": []
  }
 ],
 "metadata": {
  "kernelspec": {
   "display_name": "Python 3 (ipykernel)",
   "language": "python",
   "name": "python3"
  },
  "language_info": {
   "codemirror_mode": {
    "name": "ipython",
    "version": 3
   },
   "file_extension": ".py",
   "mimetype": "text/x-python",
   "name": "python",
   "nbconvert_exporter": "python",
   "pygments_lexer": "ipython3",
   "version": "3.9.18"
  }
 },
 "nbformat": 4,
 "nbformat_minor": 5
}
